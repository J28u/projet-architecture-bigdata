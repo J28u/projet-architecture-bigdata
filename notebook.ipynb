{
 "cells": [
  {
   "cell_type": "markdown",
   "id": "aca6bec3-50c1-4fef-8872-242c2f3eeec4",
   "metadata": {},
   "source": [
    "<h1 style=\"font-family:Corbel Light; color:#97a9fd\">Projet 8 : Déployez un modèle dans le cloud </h1>"
   ]
  },
  {
   "cell_type": "markdown",
   "id": "f31fd264-40c9-4a05-b207-be4b95d389a3",
   "metadata": {},
   "source": [
    "<h2 style=\"font-family:Corbel Light; color:#737373\">Démarrage de la session spark</h2>"
   ]
  },
  {
   "cell_type": "code",
   "execution_count": null,
   "id": "c6ca4f57-1bfc-4b04-98ae-ebc139774813",
   "metadata": {},
   "outputs": [],
   "source": [
    "# L'exécution de cette cellule démarre l'application Spark"
   ]
  },
  {
   "cell_type": "markdown",
   "id": "3bbf607b-e29f-493d-98bb-41c16aefcc38",
   "metadata": {},
   "source": [
    "Affichage des informations sur la session en cours et liens vers Spark UI :"
   ]
  },
  {
   "cell_type": "code",
   "execution_count": null,
   "id": "71976c8b-bca0-4220-a296-2af2f2bd4195",
   "metadata": {},
   "outputs": [],
   "source": [
    "%%info"
   ]
  },
  {
   "cell_type": "markdown",
   "id": "a997c19a-9b58-4d17-a4cb-087586cd31aa",
   "metadata": {},
   "source": [
    "<h2 style=\"font-family:Corbel Light; color:#737373\">Import des librairies</h2>"
   ]
  },
  {
   "cell_type": "code",
   "execution_count": null,
   "id": "fa9d89aa-b531-4da1-9c93-1b0b6807c0b1",
   "metadata": {},
   "outputs": [],
   "source": [
    "import pandas as pd\n",
    "import numpy as np\n",
    "import io\n",
    "import os\n",
    "import tensorflow as tf\n",
    "from PIL import Image\n",
    "from tensorflow.keras.applications.mobilenet_v2 import MobileNetV2, preprocess_input\n",
    "from tensorflow.keras.preprocessing.image import img_to_array\n",
    "from tensorflow.keras import Model\n",
    "from pyspark.sql.functions import col, pandas_udf, PandasUDFType, element_at, split\n",
    "\n",
    "from pyspark.ml.feature import PCA\n",
    "from pyspark.ml.functions import array_to_vector, vector_to_array"
   ]
  },
  {
   "cell_type": "markdown",
   "id": "7c4b8c98-417e-400c-9d65-428b0771dcca",
   "metadata": {},
   "source": [
    "<h2 style=\"font-family:Corbel Light; color:#737373\">Traitement des données</h2>"
   ]
  },
  {
   "cell_type": "markdown",
   "id": "1268117f-c979-4bbe-ba4c-0704c7f0ee2f",
   "metadata": {},
   "source": [
    "Emplacement sur S3 du bucket dans lequel stocker les données (input et output):"
   ]
  },
  {
   "cell_type": "code",
   "execution_count": null,
   "id": "71a0308f-14a7-4c04-bd7e-10a25075a7e2",
   "metadata": {},
   "outputs": [],
   "source": [
    "PATH = 's3://projet8-oc-082023-data'\n",
    "PATH_Data = PATH+'/Test'\n",
    "PATH_Result = PATH+'/Results'\n",
    "print('PATH:        '+\\\n",
    "      PATH+'\\nPATH_Data:   '+\\\n",
    "      PATH_Data+'\\nPATH_Result: '+PATH_Result)"
   ]
  },
  {
   "cell_type": "markdown",
   "id": "fde3247e-962f-4804-8d2a-d5af53fa3dce",
   "metadata": {},
   "source": [
    "<h3 style=\"font-family:Corbel Light; color:#737373\">Chargement des données</h3>"
   ]
  },
  {
   "cell_type": "code",
   "execution_count": null,
   "id": "6701e667-5b68-4873-81b6-d862da0beb76",
   "metadata": {},
   "outputs": [],
   "source": [
    "images = spark.read.format(\"binaryFile\") \\\n",
    "  .option(\"pathGlobFilter\", \"*.jpg\") \\\n",
    "  .option(\"recursiveFileLookup\", \"true\") \\\n",
    "  .load(PATH_Data)"
   ]
  },
  {
   "cell_type": "code",
   "execution_count": null,
   "id": "ae6350b1-b946-4b92-afc6-33d4d6b9beec",
   "metadata": {},
   "outputs": [],
   "source": [
    "images.show(5)"
   ]
  },
  {
   "cell_type": "markdown",
   "id": "c5c7229b-69a9-45e2-9cb9-a34a17d7d38f",
   "metadata": {},
   "source": [
    "On ne conserve que l'emplacement de l'image (\"path\") et on ajoute une colonne contenant les **labels** (i.e. la variété du fruit ou du légume représenté sur l'image):"
   ]
  },
  {
   "cell_type": "code",
   "execution_count": null,
   "id": "9c765dfd-1217-4b02-9869-6465e0c461f9",
   "metadata": {},
   "outputs": [],
   "source": [
    "images = images.withColumn('label', element_at(split(images['path'], '/'),-2))\n",
    "print(images.printSchema())\n",
    "print(images.select('path','label').show(5,False))"
   ]
  },
  {
   "cell_type": "markdown",
   "id": "84a26a66-460e-42c1-8a91-516265731d31",
   "metadata": {},
   "source": [
    "<h3 style=\"font-family:Corbel Light; color:#737373\">Préparation du modèle</h3>"
   ]
  },
  {
   "cell_type": "code",
   "execution_count": null,
   "id": "890942a4-0db1-4141-a691-04cbfc8d02f7",
   "metadata": {},
   "outputs": [],
   "source": [
    "model = MobileNetV2(weights='imagenet',\n",
    "                    include_top=True,\n",
    "                    input_shape=(224, 224, 3))"
   ]
  },
  {
   "cell_type": "code",
   "execution_count": null,
   "id": "55c62e3b-1243-47a0-9339-3420cef5ada4",
   "metadata": {},
   "outputs": [],
   "source": [
    "new_model = Model(inputs=model.input,\n",
    "                  outputs=model.layers[-2].output)"
   ]
  },
  {
   "cell_type": "code",
   "execution_count": null,
   "id": "d7c77024-90e7-4be6-9277-1e060c180ca9",
   "metadata": {},
   "outputs": [],
   "source": [
    "brodcast_weights = sc.broadcast(new_model.get_weights())"
   ]
  },
  {
   "cell_type": "code",
   "execution_count": null,
   "id": "78f3b3b7-902f-4bf4-b496-b68925b4e8b2",
   "metadata": {},
   "outputs": [],
   "source": [
    "new_model.summary()"
   ]
  },
  {
   "cell_type": "markdown",
   "id": "c7be266b-cacb-4550-8b40-b9f1c70cc50c",
   "metadata": {},
   "source": [
    "<h3 style=\"font-family:Corbel Light; color:#737373\">Fonctions</h3>"
   ]
  },
  {
   "cell_type": "code",
   "execution_count": null,
   "id": "9c911458-f5e4-4798-8b5e-d35474eef9ff",
   "metadata": {},
   "outputs": [],
   "source": [
    "def model_fn():\n",
    "    \"\"\"\n",
    "    Returns a MobileNetV2 model with top layer removed \n",
    "    and broadcasted pretrained weights.\n",
    "    \"\"\"\n",
    "    model = MobileNetV2(weights='imagenet',\n",
    "                        include_top=True,\n",
    "                        input_shape=(224, 224, 3))\n",
    "    for layer in model.layers:\n",
    "        layer.trainable = False\n",
    "    new_model = Model(inputs=model.input,\n",
    "                  outputs=model.layers[-2].output)\n",
    "    new_model.set_weights(brodcast_weights.value)\n",
    "    return new_model"
   ]
  },
  {
   "cell_type": "code",
   "execution_count": null,
   "id": "32af9341-3000-4bb6-b3b7-d7c73f99565d",
   "metadata": {},
   "outputs": [],
   "source": [
    "def preprocess(content):\n",
    "    \"\"\"\n",
    "    Preprocesses raw image bytes for prediction.\n",
    "    \"\"\"\n",
    "    img = Image.open(io.BytesIO(content)).resize([224, 224])\n",
    "    arr = img_to_array(img)\n",
    "    return preprocess_input(arr)\n",
    "\n",
    "def featurize_series(model, content_series):\n",
    "    \"\"\"\n",
    "    Featurize a pd.Series of raw images using the input model.\n",
    "    :return: a pd.Series of image features\n",
    "    \"\"\"\n",
    "    input = np.stack(content_series.map(preprocess))\n",
    "    preds = model.predict(input)\n",
    "    # For some layers, output features will be multi-dimensional tensors.\n",
    "    # We flatten the feature tensors to vectors for easier storage in Spark DataFrames.\n",
    "    output = [p.flatten() for p in preds]\n",
    "    return pd.Series(output)\n",
    "\n",
    "@pandas_udf('array<float>', PandasUDFType.SCALAR_ITER)\n",
    "def featurize_udf(content_series_iter):\n",
    "    '''\n",
    "    This method is a Scalar Iterator pandas UDF wrapping our featurization function.\n",
    "    The decorator specifies that this returns a Spark DataFrame column of type ArrayType(FloatType).\n",
    "\n",
    "    :param content_series_iter: This argument is an iterator over batches of data, where each batch\n",
    "                              is a pandas Series of image data.\n",
    "    '''\n",
    "    # With Scalar Iterator pandas UDFs, we can load the model once and then re-use it\n",
    "    # for multiple data batches.  This amortizes the overhead of loading big models.\n",
    "    model = model_fn()\n",
    "    for content_series in content_series_iter:\n",
    "        yield featurize_series(model, content_series)"
   ]
  },
  {
   "cell_type": "markdown",
   "id": "e8313b86-5eaa-4d7c-bc43-cbaa05484bd6",
   "metadata": {},
   "source": [
    "<h3 style=\"font-family:Corbel Light; color:#737373\">Extraction des features</h3>"
   ]
  },
  {
   "cell_type": "code",
   "execution_count": null,
   "id": "0a70080a-0228-4f77-a390-d6e8be3c5c9f",
   "metadata": {},
   "outputs": [],
   "source": [
    "features_df = images.repartition(24).select(col(\"path\"),\n",
    "                                            col(\"label\"),\n",
    "                                            featurize_udf(\"content\").alias(\"features\")\n",
    "                                           )"
   ]
  },
  {
   "cell_type": "markdown",
   "id": "0b952dc6-9f71-4f26-8a3e-ef8f78195a8b",
   "metadata": {},
   "source": [
    "Ajout de l'analyse en composantes principales"
   ]
  },
  {
   "cell_type": "code",
   "execution_count": null,
   "id": "f5b87727-52df-484c-ac17-b431f7fdcbb6",
   "metadata": {},
   "outputs": [],
   "source": [
    "features_df_vec = features_df.select(col(\"path\"),\n",
    "                                     col(\"label\"),\n",
    "                                     array_to_vector('features').alias('features'))"
   ]
  },
  {
   "cell_type": "code",
   "execution_count": null,
   "id": "e5b508b1-ee30-47ff-a9aa-76e3aa5b24d2",
   "metadata": {},
   "outputs": [],
   "source": [
    "pca = PCA(k=31, inputCol=\"features\", outputCol=\"pca_features\")\n",
    "pcaModel = pca.fit(features_df_vec) "
   ]
  },
  {
   "cell_type": "code",
   "execution_count": null,
   "id": "4d17e3c8-e047-40a0-b52f-0f93590b1e5a",
   "metadata": {},
   "outputs": [],
   "source": [
    "explained_var = pcaModel.explainedVariance\n",
    "cumValues = explained_var.cumsum()\n",
    "print(cumValues)"
   ]
  },
  {
   "cell_type": "code",
   "execution_count": null,
   "id": "4ac15c45-7214-40d7-9836-743b1cce232c",
   "metadata": {},
   "outputs": [],
   "source": [
    "pca_results = pcaModel.transform(features_df_vec)"
   ]
  },
  {
   "cell_type": "code",
   "execution_count": null,
   "id": "2285d72a-d69c-4cf5-977f-1790bb390a96",
   "metadata": {},
   "outputs": [],
   "source": [
    "pca_results.limit(5).show()"
   ]
  },
  {
   "cell_type": "code",
   "execution_count": null,
   "id": "4efd5154-30b7-4b30-9a29-d684475a3632",
   "metadata": {},
   "outputs": [],
   "source": [
    "reduced_features_df = pca_results.select(col(\"path\"),\n",
    "                                         col(\"label\"),\n",
    "                                         vector_to_array('pca_features').alias('features'))"
   ]
  },
  {
   "cell_type": "code",
   "execution_count": null,
   "id": "8b61d866-19bb-42e4-b011-51cf38955c84",
   "metadata": {},
   "outputs": [],
   "source": [
    "reduced_features_df.limit(5).show()"
   ]
  },
  {
   "cell_type": "markdown",
   "id": "114ff8ae-4f8f-4f42-84da-d20ba2c03625",
   "metadata": {},
   "source": [
    "Enregistrement des données au format \"parquet\""
   ]
  },
  {
   "cell_type": "code",
   "execution_count": null,
   "id": "3c864402-9fb9-4732-b60c-30c6f64c02ff",
   "metadata": {},
   "outputs": [],
   "source": [
    "reduced_features_df.write.mode(\"overwrite\").parquet(PATH_Result)"
   ]
  },
  {
   "cell_type": "markdown",
   "id": "90be6268-9e34-412e-828d-2a9405256b1a",
   "metadata": {},
   "source": [
    "<h2 style=\"font-family:Corbel Light; color:#737373\">Chargement des données enregistrées et validation du résultat</h2>"
   ]
  },
  {
   "cell_type": "code",
   "execution_count": null,
   "id": "fa546de6-f624-4701-9139-4082361ba073",
   "metadata": {},
   "outputs": [],
   "source": [
    "df = pd.read_parquet(PATH_Result, engine='pyarrow')"
   ]
  },
  {
   "cell_type": "code",
   "execution_count": null,
   "id": "5944d85a-2e47-4239-a642-998642263afb",
   "metadata": {},
   "outputs": [],
   "source": [
    "df.head()"
   ]
  },
  {
   "cell_type": "code",
   "execution_count": null,
   "id": "6936e23c-74ad-438b-ae4d-a6d0bafb1253",
   "metadata": {},
   "outputs": [],
   "source": [
    "df.loc[0,'features'].shape"
   ]
  },
  {
   "cell_type": "code",
   "execution_count": null,
   "id": "166a959f-9da9-43f0-a091-16e4decb3bce",
   "metadata": {},
   "outputs": [],
   "source": [
    "df.shape"
   ]
  }
 ],
 "metadata": {
  "kernelspec": {
   "display_name": "env_p8",
   "language": "python",
   "name": "env_p8"
  },
  "language_info": {
   "codemirror_mode": {
    "name": "ipython",
    "version": 3
   },
   "file_extension": ".py",
   "mimetype": "text/x-python",
   "name": "python",
   "nbconvert_exporter": "python",
   "pygments_lexer": "ipython3",
   "version": "3.9.16"
  }
 },
 "nbformat": 4,
 "nbformat_minor": 5
}
